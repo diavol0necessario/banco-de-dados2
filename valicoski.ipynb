{
  "nbformat": 4,
  "nbformat_minor": 0,
  "metadata": {
    "colab": {
      "provenance": [],
      "authorship_tag": "ABX9TyPMgiRdWOGmd3qzfsKoqPOx",
      "include_colab_link": true
    },
    "kernelspec": {
      "name": "python3",
      "display_name": "Python 3"
    },
    "language_info": {
      "name": "python"
    }
  },
  "cells": [
    {
      "cell_type": "markdown",
      "metadata": {
        "id": "view-in-github",
        "colab_type": "text"
      },
      "source": [
        "<a href=\"https://colab.research.google.com/github/diavol0necessario/banco-de-dados2/blob/main/valicoski.ipynb\" target=\"_parent\"><img src=\"https://colab.research.google.com/assets/colab-badge.svg\" alt=\"Open In Colab\"/></a>"
      ]
    },
    {
      "cell_type": "code",
      "source": [
        "# Importa a biblioteca para trabalhar com bancos de dados SQLite.\n",
        "import sqlite3\n",
        "\n",
        "\n",
        "# Conecta ao banco de dados (ou criar se não existir)\n",
        "conn = sqlite3.connect('clientes.db')\n",
        "\n",
        "\n",
        "# O método .cursor() cria um objeto chamado \"cursor\".\n",
        "# Esse objeto é sua interface para enviar comandos SQL ao BD.\n",
        "cursor = conn.cursor()\n",
        "\n",
        "\n",
        "# Cria a tabela de clientes\n",
        "cursor.execute('''\n",
        "CREATE TABLE IF NOT EXISTS clientes (\n",
        "   id INTEGER PRIMARY KEY AUTOINCREMENT,\n",
        "   nome TEXT NOT NULL,\n",
        "   email TEXT NOT NULL UNIQUE\n",
        ")\n",
        "''')\n",
        "\n",
        "\n",
        "# Confirma as mudanças\n",
        "conn.commit()\n",
        "\n",
        "\n",
        "# Fecha a conexão\n",
        "conn.close()\n",
        "\n",
        "\n",
        "# Confirma execução do bloco de código\n",
        "print(\"Executado com sucesso!\")\n",
        "\n"
      ],
      "metadata": {
        "colab": {
          "base_uri": "https://localhost:8080/"
        },
        "id": "8TSrilOvRmqU",
        "outputId": "3fd8119a-114c-49ed-d57f-be7b8c6051d9"
      },
      "execution_count": 12,
      "outputs": [
        {
          "output_type": "stream",
          "name": "stdout",
          "text": [
            "Executado com sucesso!\n"
          ]
        }
      ]
    },
    {
      "cell_type": "code",
      "source": [
        "# Importa biblioteca para acessar funcionalidades do sistema operacional,\n",
        "# por exemplo, a manipulação de arquivos.\n",
        "import os\n",
        "\n",
        "# Verificar se o arquivo do banco de dados foi criado\n",
        "if os.path.exists('clientes.db'):\n",
        "    print(\"Banco de dados criado com sucesso!\")\n",
        "else:\n",
        "    print(\"Erro ao criar o banco de dados.\")\n"
      ],
      "metadata": {
        "colab": {
          "base_uri": "https://localhost:8080/"
        },
        "id": "9-TqltSTSHS-",
        "outputId": "13aefd99-3ab6-49f4-dd9a-ac3d134d2e18"
      },
      "execution_count": 13,
      "outputs": [
        {
          "output_type": "stream",
          "name": "stdout",
          "text": [
            "Banco de dados criado com sucesso!\n"
          ]
        }
      ]
    },
    {
      "cell_type": "code",
      "source": [
        "# Define uma função que adiciona cliente ao BD\n",
        "# Recebe 'nome' e 'email' como parâmetros.\n",
        "\n",
        "def adicionar_cliente(nome, email):\n",
        "    # Conecta ao BD ou cria um novo se não existir.\n",
        "    conn = sqlite3.connect('clientes.db')\n",
        "    # Cria o \"cursor\" para executar comandos SQL.\n",
        "    cursor = conn.cursor()\n",
        "    # Executa comando SQL para inserir dados na tabela.\n",
        "    cursor.execute('''INSERT INTO clientes (nome, email) VALUES (?, ?)''', (nome, email))\n",
        "    # Salva as mudanças feitas no BD.\n",
        "    conn.commit()\n",
        "    # Fecha a conexão para liberar os recursos.\n",
        "    conn.close()\n",
        "\n",
        "# Exemplo de uso\n",
        "# Chama a função para adicionar novo cliente com nome e email específicos.\n",
        "adicionar_cliente('Nikolas', 'nikolas@example.com')\n",
        "\n",
        "# Confirma a execução do bloco de código\n",
        "# Imprime mensagem ao usuário sobre conclusão da operação.\n",
        "print(\"Executado com sucesso!\")\n",
        "\n",
        "# SE HOUVER ERRO: \"DatabaseError: database disk image is malformed\"\n",
        "# SOLUÇÃO: delete o arquivo clientes.db e execute tudo desde o início."
      ],
      "metadata": {
        "colab": {
          "base_uri": "https://localhost:8080/"
        },
        "id": "V7vrDWMaS5tb",
        "outputId": "70f410df-fa0a-457f-eb66-0493b143493e"
      },
      "execution_count": 14,
      "outputs": [
        {
          "output_type": "stream",
          "name": "stdout",
          "text": [
            "Executado com sucesso!\n"
          ]
        }
      ]
    },
    {
      "cell_type": "code",
      "source": [
        "# Define função para buscar e retornar todos os clientes do BD.\n",
        "def listar_clientes():\n",
        "    # Conecta ao BD 'clientes.db'.\n",
        "    conn = sqlite3.connect('clientes.db')\n",
        "\n",
        "    # Cria um cursor para executar comandos SQL.\n",
        "    cursor = conn.cursor()\n",
        "\n",
        "    # Executa comando SQL para selecionar todas as linhas da tabela 'clientes'.\n",
        "    cursor.execute('SELECT * FROM clientes')\n",
        "\n",
        "    # Busca todos os resultados da consulta e os armazena na variável 'clientes'.\n",
        "    clientes = cursor.fetchall()\n",
        "\n",
        "    # Fecha a conexão com o BD.\n",
        "    conn.close()\n",
        "\n",
        "    # Retorna a lista de clientes.\n",
        "    return clientes\n",
        "\n",
        "# Exemplo de uso\n",
        "# Chama a função para obter a lista de clientes.\n",
        "clientes = listar_clientes()\n",
        "\n",
        "# Percorre a lista e imprime cada cliente.\n",
        "for cliente in clientes:\n",
        "    print(cliente)"
      ],
      "metadata": {
        "colab": {
          "base_uri": "https://localhost:8080/"
        },
        "id": "e300eBKcU3c_",
        "outputId": "a0ebb10f-3902-4afc-9c99-cdbf2e06bf68"
      },
      "execution_count": 15,
      "outputs": [
        {
          "output_type": "stream",
          "name": "stdout",
          "text": [
            "(1, 'Nikolas', 'nikolas@example.com')\n"
          ]
        }
      ]
    },
    {
      "cell_type": "code",
      "source": [
        "# Define função para \"limpar\" formulário, resetando os campos.\n",
        "# A função não recebe parâmetros, só retorna novo dicionário.\n",
        "def limpar_formulario():\n",
        "    # Retorna dicionário com as chaves 'nome' e 'email' e valores.\n",
        "    return {'nome': '', 'email': ''}\n",
        "\n",
        "# Exemplo de uso\n",
        "# Cria dicionário que simula formulário preenchido.\n",
        "formulario = {'nome': 'João', 'email': 'joao@example.com'}\n",
        "print(\"Antes de limpar:\", formulario)\n",
        "\n",
        "# Chama função para obter o formulário limpo e atribui o resultado\n",
        "# à variável 'formulario', sobrescrevendo o valor anterior com campos vazios.\n",
        "formulario = limpar_formulario()\n",
        "print(\"Depois de limpar:\", formulario)"
      ],
      "metadata": {
        "colab": {
          "base_uri": "https://localhost:8080/"
        },
        "id": "IwSgszGoVJEk",
        "outputId": "52c8a5bf-b32b-4fdd-9fa7-128dc1944189"
      },
      "execution_count": 16,
      "outputs": [
        {
          "output_type": "stream",
          "name": "stdout",
          "text": [
            "Antes de limpar: {'nome': 'João', 'email': 'joao@example.com'}\n",
            "Depois de limpar: {'nome': '', 'email': ''}\n"
          ]
        }
      ]
    }
  ]
}